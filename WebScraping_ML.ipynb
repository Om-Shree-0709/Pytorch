{
  "nbformat": 4,
  "nbformat_minor": 0,
  "metadata": {
    "colab": {
      "provenance": [],
      "authorship_tag": "ABX9TyOgAvuuE0qYWvdPkq4Yd1W+",
      "include_colab_link": true
    },
    "kernelspec": {
      "name": "python3",
      "display_name": "Python 3"
    },
    "language_info": {
      "name": "python"
    }
  },
  "cells": [
    {
      "cell_type": "markdown",
      "metadata": {
        "id": "view-in-github",
        "colab_type": "text"
      },
      "source": [
        "<a href=\"https://colab.research.google.com/github/Om-Shree-0709/Pytorch/blob/main/WebScraping_ML.ipynb\" target=\"_parent\"><img src=\"https://colab.research.google.com/assets/colab-badge.svg\" alt=\"Open In Colab\"/></a>"
      ]
    },
    {
      "cell_type": "code",
      "execution_count": 1,
      "metadata": {
        "id": "WAs5-EWYrSbj"
      },
      "outputs": [],
      "source": [
        "import pandas as pd\n",
        "import requests\n",
        "from bs4 import BeautifulSoup"
      ]
    },
    {
      "cell_type": "code",
      "source": [
        "#requests.get('https://www.ambitionbox.com/list-of-companies?page=7')\n",
        "#SERVER REJECTED OUR RESPONSE <Response [403]>\n",
        "\n",
        "#requests.get('https://www.ambitionbox.com/list-of-companies?page=7').text\n",
        "#WHY SERVER REJECTED OUR RESPONSE WE USE ```.test```\n",
        "\n",
        "#Hence this type of behaviour is usually rejected (Bot Behaviour)\n",
        "# So We disguise ourself => and send request to server :\n",
        "# By Making it look like a human has sent a request through browser\n",
        "\n",
        "headers={'User-Agent':'Mozilla/5.0 (Windows NT 6.3; Win 64 ; x64) Apple WeKit /537.36(KHTML , like Gecko) Chrome/80.0.3987.162 Safari/537.36'}\n",
        "\n",
        "url = 'https://www.ambitionbox.com/list-of-companies?page=7'\n",
        "\n",
        "requests.get(url,headers=headers).text"
      ],
      "metadata": {
        "id": "V5NeFqX8sYHC"
      },
      "execution_count": null,
      "outputs": []
    }
  ]
}