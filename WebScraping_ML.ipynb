{
  "nbformat": 4,
  "nbformat_minor": 0,
  "metadata": {
    "colab": {
      "provenance": [],
      "authorship_tag": "ABX9TyOQPqfHhDt8t+CGZ9TEiae4",
      "include_colab_link": true
    },
    "kernelspec": {
      "name": "python3",
      "display_name": "Python 3"
    },
    "language_info": {
      "name": "python"
    }
  },
  "cells": [
    {
      "cell_type": "markdown",
      "metadata": {
        "id": "view-in-github",
        "colab_type": "text"
      },
      "source": [
        "<a href=\"https://colab.research.google.com/github/Om-Shree-0709/Pytorch/blob/main/WebScraping_ML.ipynb\" target=\"_parent\"><img src=\"https://colab.research.google.com/assets/colab-badge.svg\" alt=\"Open In Colab\"/></a>"
      ]
    },
    {
      "cell_type": "code",
      "execution_count": 2,
      "metadata": {
        "id": "WAs5-EWYrSbj"
      },
      "outputs": [],
      "source": [
        "import pandas as pd\n",
        "import requests\n",
        "from bs4 import BeautifulSoup\n",
        "import numpy as np"
      ]
    },
    {
      "cell_type": "code",
      "source": [
        "#requests.get('https://www.ambitionbox.com/list-of-companies?page=7')\n",
        "#SERVER REJECTED OUR RESPONSE <Response [403]>\n",
        "\n",
        "#requests.get('https://www.ambitionbox.com/list-of-companies?page=7').text\n",
        "#WHY SERVER REJECTED OUR RESPONSE WE USE ```.test```\n",
        "\n",
        "#Hence this type of behaviour is usually rejected (Bot Behaviour)\n",
        "# So We disguise ourself => and send request to server :\n",
        "# By Making it look like a human has sent a request through browser\n",
        "\n"
      ],
      "metadata": {
        "collapsed": true,
        "id": "V5NeFqX8sYHC"
      },
      "execution_count": 2,
      "outputs": []
    },
    {
      "cell_type": "code",
      "source": [
        "headers={'User-Agent':'Mozilla/5.0 (Windows NT 6.3; Win 64; x64) AppleWeKit/537.36 (KHTML , like Gecko) Chrome/80.0.3987.162 Safari/537.36'}\n",
        "\n",
        "#WE GET THE WHOLE HTML OF THE PAGE AND STORE IT IN Webpage Variable\n",
        "\n",
        "#Webpage=requests.get('https://www.imdb.com/chart/top/',headers=headers).text\n",
        "webpage=requests.get('https://wellfound.com/startups/l/india/data?page=1',headers=headers).text"
      ],
      "metadata": {
        "id": "vA84wZrrvtni"
      },
      "execution_count": 3,
      "outputs": []
    },
    {
      "cell_type": "code",
      "source": [
        "soup=BeautifulSoup(webpage,'lxml')\n",
        "print(soup.prettify())"
      ],
      "metadata": {
        "colab": {
          "base_uri": "https://localhost:8080/"
        },
        "collapsed": true,
        "id": "3WJr_-knwzzy",
        "outputId": "7a7e1c60-88a7-4e19-83fa-e334f1e7faa0"
      },
      "execution_count": 4,
      "outputs": [
        {
          "output_type": "stream",
          "name": "stdout",
          "text": [
            "<html lang=\"en\">\n",
            " <head>\n",
            "  <title>\n",
            "   wellfound.com\n",
            "  </title>\n",
            "  <style>\n",
            "   #cmsg{animation: A 1.5s;}@keyframes A{0%{opacity:0;}99%{opacity:0;}100%{opacity:1;}}\n",
            "  </style>\n",
            " </head>\n",
            " <body style=\"margin:0\">\n",
            "  <p id=\"cmsg\">\n",
            "   Please enable JS and disable any ad blocker\n",
            "  </p>\n",
            "  <script data-cfasync=\"false\">\n",
            "   var dd={'rt':'c','cid':'AHrlqAAAAAMA-KVnhJoMWgkAIqo7PQ==','hsh':'BA3EB296E8BE96A496929870E20CD4','t':'fe','qp':'','s':23647,'e':'2161181aafcb2e6c4df76f5c2b13f1957e289cafb2fafe0949e76f4d7da82d94','host':'geo.captcha-delivery.com','cookie':'u11gx8X9U8u8FcjRe9LQTAXFVCktsux8HcUZpcHdxOlkq45VWFdCgvD_NmZ5GX7zy_HMf_q~ZoBENXUAtRQ4hbffKT5rmnClixmk_M1a3eLx8coFzpf~xHqLpA5AnWYz'}\n",
            "  </script>\n",
            "  <script data-cfasync=\"false\" src=\"https://ct.captcha-delivery.com/c.js\">\n",
            "  </script>\n",
            "  <script>\n",
            "   (function(){function c(){var b=a.contentDocument||a.contentWindow.document;if(b){var d=b.createElement('script');d.innerHTML=\"window.__CF$cv$params={r:'908166f89bade7f8',t:'MTczNzkwMzkzNy4wMDAwMDA='};var a=document.createElement('script');a.nonce='';a.src='/cdn-cgi/challenge-platform/scripts/jsd/main.js';document.getElementsByTagName('head')[0].appendChild(a);\";b.getElementsByTagName('head')[0].appendChild(d)}}if(document.body){var a=document.createElement('iframe');a.height=1;a.width=1;a.style.position='absolute';a.style.top=0;a.style.left=0;a.style.border='none';a.style.visibility='hidden';document.body.appendChild(a);if('loading'!==document.readyState)c();else if(window.addEventListener)document.addEventListener('DOMContentLoaded',c);else{var e=document.onreadystatechange||function(){};document.onreadystatechange=function(b){e(b);'loading'!==document.readyState&&(document.onreadystatechange=e,c())}}}})();\n",
            "  </script>\n",
            " </body>\n",
            "</html>\n",
            "\n"
          ]
        }
      ]
    },
    {
      "cell_type": "code",
      "source": [
        "#How to Extract data using beautiful soup\n",
        "#print(soup.find_all('h1')[0].text)\n",
        "# how many times h1 is used\n",
        "\n",
        "#class=\"EmployerInfo_companyName__wHX9d\"\n",
        "#print(len(soup.find_all('span',class_=\"EmployerInfo_companyName__wHX9d\")))\n",
        "print(len(soup.find_all('h2')))\n",
        "print((soup.find_all('h2')))\n",
        "\n",
        "\n",
        "for i in soup.find_all('h2'):\n",
        "  print(i.text.strip())\n",
        "  #strip( ): remove all css from it"
      ],
      "metadata": {
        "colab": {
          "base_uri": "https://localhost:8080/"
        },
        "collapsed": true,
        "id": "49ALmBdAyEng",
        "outputId": "ee9bc714-ca6c-49e6-faff-f5aa67df2238"
      },
      "execution_count": 5,
      "outputs": [
        {
          "output_type": "stream",
          "name": "stdout",
          "text": [
            "0\n",
            "[]\n"
          ]
        }
      ]
    },
    {
      "cell_type": "code",
      "source": [
        "#Movie_Name= _class=\"ipc-title__text\"\n",
        "#Rating= <span class=\"ipc-rating-star--rating\">8.6</span>\n",
        "#Vote_Count=<span class=\"ipc-rating-star--voteCount\">&nbsp;(77K)</span>\n",
        "#YEAR = <span class=\"sc-300a8231-7 eaXxft cli-title-metadata-item\">1972</span>"
      ],
      "metadata": {
        "id": "pc35A6Aoz6_p"
      },
      "execution_count": 6,
      "outputs": []
    },
    {
      "cell_type": "code",
      "source": [
        "print(len(soup.find_all('span',class_=\"ipc-rating-star--rating\")))\n",
        "print(len(soup.find_all('h3',class_=\"ipc-title__text\")))\n",
        "print(len(soup.find_all('span',class_=\"ipc-rating-star--voteCount\")))"
      ],
      "metadata": {
        "colab": {
          "base_uri": "https://localhost:8080/"
        },
        "id": "o20gf9J67Aok",
        "outputId": "445359f9-483c-429b-bc75-614dec73c1af"
      },
      "execution_count": 7,
      "outputs": [
        {
          "output_type": "stream",
          "name": "stdout",
          "text": [
            "25\n",
            "27\n",
            "25\n"
          ]
        }
      ]
    }
  ]
}