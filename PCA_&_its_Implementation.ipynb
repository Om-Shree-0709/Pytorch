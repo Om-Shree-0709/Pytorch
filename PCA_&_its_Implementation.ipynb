{
  "nbformat": 4,
  "nbformat_minor": 0,
  "metadata": {
    "colab": {
      "provenance": [],
      "authorship_tag": "ABX9TyNirnQA9IS1xRUWJJv5SyFE",
      "include_colab_link": true
    },
    "kernelspec": {
      "name": "python3",
      "display_name": "Python 3"
    },
    "language_info": {
      "name": "python"
    }
  },
  "cells": [
    {
      "cell_type": "markdown",
      "metadata": {
        "id": "view-in-github",
        "colab_type": "text"
      },
      "source": [
        "<a href=\"https://colab.research.google.com/github/Om-Shree-0709/Pytorch/blob/main/PCA_%26_its_Implementation.ipynb\" target=\"_parent\"><img src=\"https://colab.research.google.com/assets/colab-badge.svg\" alt=\"Open In Colab\"/></a>"
      ]
    },
    {
      "cell_type": "markdown",
      "source": [
        "PCA : principal component analysis [Pre-Processing Techniques] \\\n",
        "D:{x,y} : given dataset (supervised dataset)\n",
        "X belongs to R raised to power d [features] : dimensionality->x ke features\n",
        "\n",
        "D conveted to D' : {x,y} X belongs to R raised to power d' \\\n",
        "( where d'< d always )\n",
        "\n",
        "TO REDUCE THE DIMENSIONALITY OF FEATURES \\\n",
        "because : faster computation and training"
      ],
      "metadata": {
        "id": "AkdCo2zcS1jZ"
      }
    },
    {
      "cell_type": "code",
      "execution_count": null,
      "metadata": {
        "id": "6QWE3tS-SuRJ"
      },
      "outputs": [],
      "source": [
        "import pandas as pd\n",
        "import numpy as np\n",
        "import matplotlib.pyplot as plt\n"
      ]
    }
  ]
}