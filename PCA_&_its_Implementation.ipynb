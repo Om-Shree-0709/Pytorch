{
  "nbformat": 4,
  "nbformat_minor": 0,
  "metadata": {
    "colab": {
      "provenance": [],
      "authorship_tag": "ABX9TyNNJvupP+tDee6BlXUBuKpd",
      "include_colab_link": true
    },
    "kernelspec": {
      "name": "python3",
      "display_name": "Python 3"
    },
    "language_info": {
      "name": "python"
    }
  },
  "cells": [
    {
      "cell_type": "markdown",
      "metadata": {
        "id": "view-in-github",
        "colab_type": "text"
      },
      "source": [
        "<a href=\"https://colab.research.google.com/github/Om-Shree-0709/Pytorch/blob/main/PCA_%26_its_Implementation.ipynb\" target=\"_parent\"><img src=\"https://colab.research.google.com/assets/colab-badge.svg\" alt=\"Open In Colab\"/></a>"
      ]
    },
    {
      "cell_type": "markdown",
      "source": [
        "PCA : principal component analysis [Pre-Processing Techniques] \\\n",
        "D:{x,y} : given dataset (supervised dataset)\n",
        "X belongs to R raised to power d [features] : dimensionality->x ke features\n",
        "\n",
        "D conveted to D' : {x,y} X belongs to R raised to power d' \\\n",
        "( where d'< d always )\n",
        "\n",
        "TO REDUCE THE DIMENSIONALITY OF FEATURES \\\n",
        "because : faster computation and training"
      ],
      "metadata": {
        "id": "AkdCo2zcS1jZ"
      }
    },
    {
      "cell_type": "markdown",
      "source": [
        "AXIS ROTATION:\n",
        "1. Find covarience Matrix\n",
        "2. FInd Eigen Values\n",
        "3. Find resp Eigen Vectors\n",
        "4. Sort in  Decending order and pick the top 3\n",
        "\n",
        ":In Starting lets assume we had dimensionality=10 \\\n",
        "now we r left with only 3 dimensions"
      ],
      "metadata": {
        "id": "efpqNfM4Xseg"
      }
    },
    {
      "cell_type": "markdown",
      "source": [
        "OBJECTIVE FXN:\n",
        "1. SPREAD Maximization\n",
        "2. Distance Minimization\n",
        "Before implementing PCA : we need to standardize the data \\\n",
        "mean = 0 \\\n",
        "variance = 1 \\\n",
        "( for each column )\n",
        "\n",
        "We have to find u1(unit vector) in such a way that , Variance of the Projected print is maximized"
      ],
      "metadata": {
        "id": "iygkHexmYaS-"
      }
    },
    {
      "cell_type": "code",
      "execution_count": null,
      "metadata": {
        "id": "6QWE3tS-SuRJ"
      },
      "outputs": [],
      "source": [
        "import pandas as pd\n",
        "import numpy as np\n",
        "import matplotlib.pyplot as plt\n"
      ]
    }
  ]
}